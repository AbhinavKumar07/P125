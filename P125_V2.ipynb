{
  "nbformat": 4,
  "nbformat_minor": 0,
  "metadata": {
    "colab": {
      "provenance": [],
      "include_colab_link": true
    },
    "kernelspec": {
      "name": "python3",
      "display_name": "Python 3"
    },
    "language_info": {
      "name": "python"
    }
  },
  "cells": [
    {
      "cell_type": "markdown",
      "metadata": {
        "id": "view-in-github",
        "colab_type": "text"
      },
      "source": [
        "<a href=\"https://colab.research.google.com/github/AbhinavKumar07/P125/blob/main/P125_V2.ipynb\" target=\"_parent\"><img src=\"https://colab.research.google.com/assets/colab-badge.svg\" alt=\"Open In Colab\"/></a>"
      ]
    },
    {
      "cell_type": "markdown",
      "source": [
        "**Archery-Target** is a game in which the players shoot sharp-pointed arrows at a round target having 10 rings.\n",
        "\n",
        "<img src=\"https://s3-whjr-curriculum-uploads.whjr.online/4de9132a-c71d-42ce-9099-3293e8805fd9.jpg\">"
      ],
      "metadata": {
        "id": "nUWO5QkC_g-4"
      }
    },
    {
      "cell_type": "markdown",
      "source": [
        "## RL Problem to Solve\n",
        "Hit the center of the target with maximum reward"
      ],
      "metadata": {
        "id": "5QtHLAqv3wP3"
      }
    },
    {
      "cell_type": "markdown",
      "source": [
        "<img src=\"https://s3-whjr-curriculum-uploads.whjr.online/40656a8c-14e2-4dd7-9f9e-4c17669b9182.png\" width=300>\n",
        "\n",
        "\n",
        "Number of **State**: ?\n",
        "\n",
        "Number of **Actions**: ?\n",
        "\n"
      ],
      "metadata": {
        "id": "Osb6FQ74YZtE"
      }
    },
    {
      "cell_type": "code",
      "source": [
        "#import required libraries\n",
        "import numpy as np\n",
        "import random"
      ],
      "metadata": {
        "id": "miKQCNS1jtW2"
      },
      "execution_count": 61,
      "outputs": []
    },
    {
      "cell_type": "markdown",
      "source": [
        "## Reward Matrix\n",
        "Reward Matrix represents states as rows and actions as columns with respective awards values assigned for a given state and action pair."
      ],
      "metadata": {
        "id": "Ujmi3BO54LfJ"
      }
    },
    {
      "cell_type": "code",
      "source": [
        "#Create reward matrix\n",
        "\n",
        "reward_matrix = np.array([0,1,2,3,4,5,6,7,8,9,10])\n",
        "print(reward_matrix)"
      ],
      "metadata": {
        "id": "TM8C0P1_j0h8",
        "colab": {
          "base_uri": "https://localhost:8080/"
        },
        "outputId": "dfa1adae-3808-408b-9e43-7f4b44f4ff4a"
      },
      "execution_count": 62,
      "outputs": [
        {
          "output_type": "stream",
          "name": "stdout",
          "text": [
            "[ 0  1  2  3  4  5  6  7  8  9 10]\n"
          ]
        }
      ]
    },
    {
      "cell_type": "markdown",
      "source": [
        "## Take Action Randomly"
      ],
      "metadata": {
        "id": "Af-CAmdfkDQY"
      }
    },
    {
      "cell_type": "code",
      "source": [
        "#Define shoot()\n",
        "\n",
        "def shoot():\n",
        "  return np.random.randint(0,10)\n",
        "\n",
        "action = shoot()\n",
        "print(action)\n"
      ],
      "metadata": {
        "id": "MotipYImkFmN",
        "colab": {
          "base_uri": "https://localhost:8080/"
        },
        "outputId": "ea859abc-e09d-49c4-de44-c5ec172ad5fd"
      },
      "execution_count": 63,
      "outputs": [
        {
          "output_type": "stream",
          "name": "stdout",
          "text": [
            "1\n"
          ]
        }
      ]
    },
    {
      "cell_type": "markdown",
      "source": [
        "##Q-matrix\n",
        "\n",
        "**Q-learning** is a reinforcement learning algorithm. Given the current state, it helps to find the best action to be taken by the agent.\n",
        "\n",
        "**Q-matrix** represents reward received after a taking particular action in the current state. Initially, all the elements of the Q-matrix are zeroes.\n"
      ],
      "metadata": {
        "id": "JXKyVT28hHoH"
      }
    },
    {
      "cell_type": "code",
      "source": [
        "#Create Q-matrix\n",
        "q_matrix = np.zeros(10)\n",
        "print (q_matrix)"
      ],
      "metadata": {
        "id": "3ks5cRmkkSrH",
        "colab": {
          "base_uri": "https://localhost:8080/"
        },
        "outputId": "ed4fae5b-d632-43d8-fe73-65c35701689a"
      },
      "execution_count": 64,
      "outputs": [
        {
          "output_type": "stream",
          "name": "stdout",
          "text": [
            "[0. 0. 0. 0. 0. 0. 0. 0. 0. 0.]\n"
          ]
        }
      ]
    },
    {
      "cell_type": "markdown",
      "source": [
        "##Take Action"
      ],
      "metadata": {
        "id": "dZWfKn6wkw6f"
      }
    },
    {
      "cell_type": "code",
      "source": [
        "#Define take_action\n",
        "\n",
        "def take_action(reward_matrix):\n",
        "\n",
        "     #Call the shoot() function to get the action\n",
        "  action = shoot()\n",
        "  print(\"Action:\", action)\n",
        "     #Get the corresponding reward using Reward matrix\n",
        "  reward = reward_matrix[action]\n",
        "  print(\"Reward: \" , reward)\n",
        "\n",
        "  return action, reward"
      ],
      "metadata": {
        "id": "BuLjlxo4kIhU"
      },
      "execution_count": 65,
      "outputs": []
    },
    {
      "cell_type": "code",
      "source": [
        "#Call take_action function\n",
        "\n",
        "action_taken = take_action(reward_matrix)"
      ],
      "metadata": {
        "id": "O5xbk5RtwoCb",
        "colab": {
          "base_uri": "https://localhost:8080/"
        },
        "outputId": "8a9c76c4-f0b0-4f5b-d61f-52690ebf939f"
      },
      "execution_count": 66,
      "outputs": [
        {
          "output_type": "stream",
          "name": "stdout",
          "text": [
            "Action: 9\n",
            "Reward:  9\n"
          ]
        }
      ]
    }
  ]
}